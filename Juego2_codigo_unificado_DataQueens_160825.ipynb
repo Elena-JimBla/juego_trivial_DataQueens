{
 "cells": [
  {
   "cell_type": "code",
   "execution_count": null,
   "id": "ed121efc",
   "metadata": {},
   "outputs": [],
   "source": [
    "import random\n",
    "\n",
    "# Nuevas opciones\n",
    "opciones = [\"piedra\", \"papel\", \"tijeras\", \"lagarto\", \"spock\"]\n",
    "\n",
    "print(\"Saludos, humano. 🤖\\nHoy tendrás el honor —y la humillación estadísticamente inevitable— de enfrentarte al mayor genio en Piedra, Papel, Tijeras, Lagarto, Spock. \\nPrepárate para una derrota elegante.💥\\nElige tu arma\")\n",
    "\n",
    "usuario = input(\"piedra, papel, tijeras, lagarto o spock → \").lower()\n",
    "\n",
    "computadora = random.choice(opciones)\n",
    "\n",
    "print(f\"Tú elección fue: {usuario}\")\n",
    "print(f\"El gran Sheldon eligió: {computadora}\")\n",
    "\n",
    "# Reglas\n",
    "if usuario == computadora:\n",
    "    print(\"¡Empateaste con el maestro!\")\n",
    "elif (\n",
    "    (usuario == \"tijeras\" and computadora in [\"papel\", \"lagarto\"]) or\n",
    "    (usuario == \"papel\" and computadora in [\"piedra\", \"spock\"]) or\n",
    "    (usuario == \"piedra\" and computadora in [\"lagarto\", \"tijeras\"]) or\n",
    "    (usuario == \"lagarto\" and computadora in [\"spock\", \"papel\"]) or\n",
    "    (usuario == \"spock\" and computadora in [\"tijeras\", \"piedra\"])\n",
    "):\n",
    "    print(\"¡Inconcebible! Has derrotado al maestro… esto requiere revisión de datos. 🎉\")\n",
    "else:\n",
    "    print(\"Como predije estadísticamente, tu derrota era inevitable... Bazinga!. 😢\")"
   ]
  }
 ],
 "metadata": {
  "language_info": {
   "name": "python"
  }
 },
 "nbformat": 4,
 "nbformat_minor": 5
}
